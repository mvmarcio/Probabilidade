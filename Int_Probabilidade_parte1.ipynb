{
  "nbformat": 4,
  "nbformat_minor": 0,
  "metadata": {
    "colab": {
      "name": "Int_Probabilidade_parte1.ipynb",
      "provenance": []
    },
    "kernelspec": {
      "name": "ir",
      "display_name": "R"
    },
    "language_info": {
      "name": "R"
    }
  },
  "cells": [
    {
      "cell_type": "markdown",
      "source": [
        "# **Probabilidade**"
      ],
      "metadata": {
        "id": "gAOfo-ILtZin"
      }
    },
    {
      "cell_type": "markdown",
      "source": [
        "## **1. Objetivo**\n",
        "\n",
        "O objetivo deste *script* é fazer uma motivação para a importância do estudo da **Probabilidade**. Em cursos mais básicos de estatística a gente aprende que a probabilidade é definida como a divisão de um evento *A* pelo número de elementos do espaço amostral ($\\Omega$)."
      ],
      "metadata": {
        "id": "BOWVnh8_tm1V"
      }
    },
    {
      "cell_type": "markdown",
      "source": [
        "Essa definição, também conhecida como definição de Laplace, é interessante, mas apresenta algumas limitações, como nas seguintes situações:\n",
        "\n",
        "i. Quando o conjunto formado por $\\Omega$ não é finito;\n",
        "\n",
        "ii. Quando $\\Omega$ apesar de finito possui elementos não equiprováveis."
      ],
      "metadata": {
        "id": "gjBh1ElQttOi"
      }
    },
    {
      "cell_type": "markdown",
      "source": [
        "Neste caso, parte-se para a definição formal (frequentista) de probabilidade desenvolvida por Kolmogorov (1956). Nesta situação, é realizada uma definição axiomática da probabilidade com base em fundamentos matemáticos como a teoria dos conjuntos e cálculo diferencial e integral. \n",
        "\n",
        "O objetivo deste *script* não é detalhar tal definição, mas apresentar o conceito formal de probabilidade e mostrar um exemplo de aplicação utilizando a linguagem R. \n",
        "\n",
        "Para apresentar o conceito frequentista de probabilidade vou utilizar o exemplo do problema do aniversário."
      ],
      "metadata": {
        "id": "fEzfRV4ItxBl"
      }
    },
    {
      "cell_type": "markdown",
      "source": [
        "### **Problema do Aniversário**\n",
        "\n",
        "vamos imaginar que num local há até 365 pessoas. Qual a probabilidade de que ao menos duas pessoas façam aniversário no mesmo dia?\n",
        "\n",
        "$A: ao \\ menos \\ duas \\ pessoas \\ fazem \\ aniversário \\ no \\ mesmo \\ dia;$\n",
        "\n",
        "$A^c: nenhuma \\ faz \\ aniversário \\ no \\ mesmo \\ dia.$\n",
        "\n",
        "Nosso espaço amostral é definido da seguinte forma:\n",
        "\n",
        "$\\Omega = \\left\\{ (i_1, i_2,..., i_N): 1 \\le i_j \\le 365, \\forall \\ 1 \\le i_j \\le N\\right\\} $\n",
        "\n",
        "\n",
        "$|\\Omega| = 365^N$\n",
        "\n",
        "A probabilidade de ninguém fazer aniversário no mesmo dia é dada da seguinte forma:\n",
        "\n",
        "$\\mathbb{P}(A^c) = \\frac{365*364*...*(365-N+1)}{365^N}$\n",
        "\n",
        "Dessa forma, o evento de pelo menos duas pessoas entre 365 terem o mesmo aniversário é o complementar de todos 365 serem diferentes:\n",
        "\n",
        "$\\mathbb{P}(A) = 1 - \\mathbb{P}(A^c) = 1- \\frac{365*364*...*(365-N+1)}{365^N}$"
      ],
      "metadata": {
        "id": "NCOCGJRiuASb"
      }
    },
    {
      "cell_type": "markdown",
      "source": [
        "Agora vamos implementar esse problema na linguagem R."
      ],
      "metadata": {
        "id": "Hys4o0Dhywbw"
      }
    },
    {
      "cell_type": "code",
      "source": [
        "# Código em R\n",
        "\n",
        "# n: número de pessoas\n",
        "\n",
        "aniversario <- function(n){print(p <- 1 - choose(365, 365 - n) * factorial(n)/365^n)}"
      ],
      "metadata": {
        "id": "05FidfPYt3ud"
      },
      "execution_count": 1,
      "outputs": []
    },
    {
      "cell_type": "code",
      "source": [
        "# Vamos aplicar para um grupo de 23 pessoas:\n",
        "\n",
        "round(aniversario(23), 3) * 100"
      ],
      "metadata": {
        "colab": {
          "base_uri": "https://localhost:8080/",
          "height": 52
        },
        "id": "Xg3jU-n8zVnr",
        "outputId": "471d9ca6-d308-49fd-e723-6ab0da33bbe5"
      },
      "execution_count": 5,
      "outputs": [
        {
          "output_type": "stream",
          "name": "stdout",
          "text": [
            "[1] 0.5072972\n"
          ]
        },
        {
          "output_type": "display_data",
          "data": {
            "text/html": [
              "50.7"
            ],
            "text/markdown": "50.7",
            "text/latex": "50.7",
            "text/plain": [
              "[1] 50.7"
            ]
          },
          "metadata": {}
        }
      ]
    },
    {
      "cell_type": "markdown",
      "source": [
        "Para um grupo de 23 pessoas, a probabilidade de que pelo menos um par faça aniversário no mesmo dia foi de 50,72%."
      ],
      "metadata": {
        "id": "EUVmZkP9zulc"
      }
    },
    {
      "cell_type": "code",
      "source": [
        "# Vamos testar para 30 pessoas\n",
        "\n",
        "round(aniversario(30), 3) * 100"
      ],
      "metadata": {
        "colab": {
          "base_uri": "https://localhost:8080/",
          "height": 52
        },
        "id": "RTMKCgO5z6SM",
        "outputId": "3283b9f4-f036-4bdd-e22c-9d12088956d1"
      },
      "execution_count": 6,
      "outputs": [
        {
          "output_type": "stream",
          "name": "stdout",
          "text": [
            "[1] 0.7063162\n"
          ]
        },
        {
          "output_type": "display_data",
          "data": {
            "text/html": [
              "70.6"
            ],
            "text/markdown": "70.6",
            "text/latex": "70.6",
            "text/plain": [
              "[1] 70.6"
            ]
          },
          "metadata": {}
        }
      ]
    },
    {
      "cell_type": "markdown",
      "source": [
        "Para um grupo de 30 pessoas, essa probabilidade foi de 70,6%. "
      ],
      "metadata": {
        "id": "QtDYH1cf0Ey9"
      }
    },
    {
      "cell_type": "markdown",
      "source": [
        "## **Conclusão**\n",
        "\n",
        "O objetivo deste *script* foi apresentar o conceito frequentista de probabilidade e mostrar a importância dele, que é a base do estudo da ciência estatística e, consequentemente, da ciência de dados. \n",
        "\n",
        "Obrigado 😀."
      ],
      "metadata": {
        "id": "wyaW274T0g7L"
      }
    }
  ]
}